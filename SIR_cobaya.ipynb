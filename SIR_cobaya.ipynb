{
 "cells": [
  {
   "cell_type": "code",
   "execution_count": 11,
   "metadata": {},
   "outputs": [],
   "source": [
    "import numpy as np\n",
    "from scipy.integrate import odeint\n",
    "import matplotlib.pyplot as plt\n",
    "from cobaya.likelihood import Likelihood\n",
    "from getdist.mcsamples import MCSamplesFromCobaya, loadMCSamples\n",
    "import getdist.plots as gdplt\n",
    "%matplotlib inline "
   ]
  },
  {
   "cell_type": "code",
   "execution_count": 12,
   "metadata": {},
   "outputs": [],
   "source": [
    "# The SIR model differential equations.\n",
    "def deriv_SIR(y, t, beta, gamma):\n",
    "    S, I, R = y\n",
    "    \n",
    "    # Total population \n",
    "    N = S + I + R\n",
    "    \n",
    "    dSdt = -beta * S * I / N\n",
    "    dIdt = beta * S * I / N - gamma * I\n",
    "    dRdt = gamma * I\n",
    "    return dSdt, dIdt, dRdt\n",
    "\n",
    "def integrate_SIR(S0, I0, R0, ndays, beta, gamma):\n",
    "    # A grid of time points (in days)\n",
    "    t = np.linspace(0, ndays, ndays)\n",
    "    \n",
    "    # Initial conditions vector\n",
    "    y0 = S0, I0, R0\n",
    "\n",
    "    # Integrate the SIR equations over the time grid, t.\n",
    "    ret = odeint(deriv_SIR, y0, t, args=(beta, gamma))\n",
    "    S, I, R = ret.T\n",
    "    return S, I, R"
   ]
  },
  {
   "cell_type": "markdown",
   "metadata": {},
   "source": [
    "Generate simulated data"
   ]
  },
  {
   "cell_type": "code",
   "execution_count": 72,
   "metadata": {},
   "outputs": [],
   "source": [
    "# Total population, N.\n",
    "N = 1000\n",
    "# Number of days.\n",
    "ndays = 160\n",
    "# Initial number of infected and recovered individuals, I0 and R0.\n",
    "I0, R0 = 1, 0\n",
    "# Everyone else, S0, is susceptible to infection initially.\n",
    "S0 = N - I0 - R0\n",
    "# Contact rate, beta, and mean recovery rate, gamma, (in 1/days).\n",
    "beta, gamma = 0.2, 1./10 \n",
    "\n",
    "_, I_data_noiseless, _ = integrate_SIR(S0, I0, R0, ndays, beta, gamma)\n",
    "I_data = np.random.normal(I_data_noiseless, 0.1)"
   ]
  },
  {
   "cell_type": "code",
   "execution_count": 73,
   "metadata": {},
   "outputs": [],
   "source": [
    "def sir_logp(beta, gamma):\n",
    "    _, I_theory, _ = integrate_SIR(S0, I0, R0, ndays, beta, gamma)\n",
    "\n",
    "    chi2 = np.sum((I_theory - I_data)**2.)\n",
    "    return -chi2 / 2"
   ]
  },
  {
   "cell_type": "code",
   "execution_count": 74,
   "metadata": {},
   "outputs": [],
   "source": [
    "info = {\"likelihood\": {\"sir\": sir_logp}}\n",
    "\n",
    "info[\"params\"] = {\n",
    "    \"beta\": {\"prior\": {\"min\": 0, \"max\": 0.4}, \"ref\": 0.2, \"proposal\": 0.01},\n",
    "    \"gamma\": {\"prior\": {\"min\": 0, \"max\": 0.2}, \"ref\": 0.1, \"proposal\": 0.01}}\n",
    "\n",
    "info[\"sampler\"] = {\"mcmc\": {\"Rminus1_stop\": 0.01, \"max_tries\": 10000}}"
   ]
  },
  {
   "cell_type": "code",
   "execution_count": 76,
   "metadata": {},
   "outputs": [
    {
     "name": "stdout",
     "output_type": "stream",
     "text": [
      "[mcmc] Covariance matrix not present. We will start learning the covariance of the proposal earlier: R-1 = 30 (was 2).\n",
      "[mcmc] Initial covariance matrix.\n",
      "[mcmc] Initial point:\n",
      "[mcmc] \n",
      " weight  minuslogpost  beta  gamma  minuslogprior  minuslogprior__0      chi2  chi2__sir\n",
      "    1.0     -1.759798   0.2    0.1      -2.525729         -2.525729  1.531862   1.531862\n",
      "[mcmc] Sampling! (NB: nothing will be printed until 40 burn-in samples have been obtained)\n",
      "[mcmc] Finished burn-in phase: discarded 40 accepted steps.\n",
      "[mcmc] Checkpoint: 80 samples accepted.\n",
      "[mcmc] Ready to check convergence and learn a new proposal covmat\n",
      "[mcmc] Convergence of means: R-1 = 0.461614 after 80 accepted steps\n",
      "[mcmc] Updated covariance matrix of proposal pdf.\n",
      "[mcmc] Checkpoint: 160 samples accepted.\n",
      "[mcmc] Ready to check convergence and learn a new proposal covmat\n",
      "[mcmc] Convergence of means: R-1 = 0.380333 after 160 accepted steps\n",
      "[mcmc] Updated covariance matrix of proposal pdf.\n",
      "[mcmc] Checkpoint: 240 samples accepted.\n",
      "[mcmc] Ready to check convergence and learn a new proposal covmat\n",
      "[mcmc] Convergence of means: R-1 = 0.206775 after 240 accepted steps\n",
      "[mcmc] Updated covariance matrix of proposal pdf.\n",
      "[mcmc] Checkpoint: 320 samples accepted.\n",
      "[mcmc] Ready to check convergence and learn a new proposal covmat\n",
      "[mcmc] Convergence of means: R-1 = 0.143561 after 320 accepted steps\n",
      "[mcmc] Updated covariance matrix of proposal pdf.\n",
      "[mcmc] Checkpoint: 400 samples accepted.\n",
      "[mcmc] Ready to check convergence and learn a new proposal covmat\n",
      "[mcmc] Convergence of means: R-1 = 0.042008 after 400 accepted steps\n",
      "[mcmc] Updated covariance matrix of proposal pdf.\n",
      "[mcmc] Checkpoint: 480 samples accepted.\n",
      "[mcmc] Ready to check convergence and learn a new proposal covmat\n",
      "[mcmc] Convergence of means: R-1 = 0.038196 after 480 accepted steps\n",
      "[mcmc] Updated covariance matrix of proposal pdf.\n",
      "[mcmc] Checkpoint: 560 samples accepted.\n",
      "[mcmc] Ready to check convergence and learn a new proposal covmat\n",
      "[mcmc] Convergence of means: R-1 = 0.046501 after 560 accepted steps\n",
      "[mcmc] Updated covariance matrix of proposal pdf.\n",
      "[mcmc] Checkpoint: 640 samples accepted.\n",
      "[mcmc] Ready to check convergence and learn a new proposal covmat\n",
      "[mcmc] Convergence of means: R-1 = 0.011000 after 640 accepted steps\n",
      "[mcmc] Updated covariance matrix of proposal pdf.\n",
      "[mcmc] Checkpoint: 720 samples accepted.\n",
      "[mcmc] Ready to check convergence and learn a new proposal covmat\n",
      "[mcmc] Convergence of means: R-1 = 0.024825 after 720 accepted steps\n",
      "[mcmc] Updated covariance matrix of proposal pdf.\n",
      "[mcmc] Checkpoint: 800 samples accepted.\n",
      "[mcmc] Ready to check convergence and learn a new proposal covmat\n",
      "[mcmc] Convergence of means: R-1 = 0.010415 after 800 accepted steps\n",
      "[mcmc] Updated covariance matrix of proposal pdf.\n",
      "[mcmc] Checkpoint: 880 samples accepted.\n",
      "[mcmc] Ready to check convergence and learn a new proposal covmat\n",
      "[mcmc] Convergence of means: R-1 = 0.014551 after 880 accepted steps\n",
      "[mcmc] Updated covariance matrix of proposal pdf.\n",
      "[mcmc] Checkpoint: 960 samples accepted.\n",
      "[mcmc] Ready to check convergence and learn a new proposal covmat\n",
      "[mcmc] Convergence of means: R-1 = 0.019302 after 960 accepted steps\n",
      "[mcmc] Updated covariance matrix of proposal pdf.\n",
      "[mcmc] Checkpoint: 1040 samples accepted.\n",
      "[mcmc] Ready to check convergence and learn a new proposal covmat\n",
      "[mcmc] Convergence of means: R-1 = 0.020365 after 1040 accepted steps\n",
      "[mcmc] Updated covariance matrix of proposal pdf.\n",
      "[mcmc] Checkpoint: 1120 samples accepted.\n",
      "[mcmc] Ready to check convergence and learn a new proposal covmat\n",
      "[mcmc] Convergence of means: R-1 = 0.020836 after 1120 accepted steps\n",
      "[mcmc] Updated covariance matrix of proposal pdf.\n",
      "[mcmc] Checkpoint: 1200 samples accepted.\n",
      "[mcmc] Ready to check convergence and learn a new proposal covmat\n",
      "[mcmc] Convergence of means: R-1 = 0.018323 after 1200 accepted steps\n",
      "[mcmc] Updated covariance matrix of proposal pdf.\n",
      "[mcmc] Checkpoint: 1280 samples accepted.\n",
      "[mcmc] Ready to check convergence and learn a new proposal covmat\n",
      "[mcmc] Convergence of means: R-1 = 0.010878 after 1280 accepted steps\n",
      "[mcmc] Updated covariance matrix of proposal pdf.\n",
      "[mcmc] Checkpoint: 1360 samples accepted.\n",
      "[mcmc] Ready to check convergence and learn a new proposal covmat\n",
      "[mcmc] Convergence of means: R-1 = 0.006656 after 1360 accepted steps\n",
      "[mcmc] Updated covariance matrix of proposal pdf.\n",
      "[mcmc] Checkpoint: 1440 samples accepted.\n",
      "[mcmc] Ready to check convergence and learn a new proposal covmat\n",
      "[mcmc] Convergence of means: R-1 = 0.007694 after 1440 accepted steps\n",
      "[mcmc] Convergence of bounds: R-1 = 0.136257 after 1440 accepted steps\n",
      "[mcmc] The run has converged!\n",
      "[mcmc] Sampling complete after 1440 accepted steps.\n"
     ]
    },
    {
     "ename": "AttributeError",
     "evalue": "'dict' object has no attribute 'products'",
     "output_type": "error",
     "traceback": [
      "\u001b[0;31m---------------------------------------------------------------------------\u001b[0m",
      "\u001b[0;31mAttributeError\u001b[0m                            Traceback (most recent call last)",
      "\u001b[0;32m<ipython-input-76-ee24e8d3b466>\u001b[0m in \u001b[0;36m<module>\u001b[0;34m\u001b[0m\n\u001b[1;32m      1\u001b[0m \u001b[0;32mfrom\u001b[0m \u001b[0mcobaya\u001b[0m\u001b[0;34m.\u001b[0m\u001b[0mrun\u001b[0m \u001b[0;32mimport\u001b[0m \u001b[0mrun\u001b[0m\u001b[0;34m\u001b[0m\u001b[0;34m\u001b[0m\u001b[0m\n\u001b[1;32m      2\u001b[0m \u001b[0mupdinfo\u001b[0m\u001b[0;34m,\u001b[0m \u001b[0msampler\u001b[0m \u001b[0;34m=\u001b[0m \u001b[0mrun\u001b[0m\u001b[0;34m(\u001b[0m\u001b[0minfo\u001b[0m\u001b[0;34m)\u001b[0m\u001b[0;34m\u001b[0m\u001b[0;34m\u001b[0m\u001b[0m\n\u001b[0;32m----> 3\u001b[0;31m \u001b[0mresults\u001b[0m \u001b[0;34m=\u001b[0m \u001b[0msampler\u001b[0m\u001b[0;34m.\u001b[0m\u001b[0mproducts\u001b[0m\u001b[0;34m(\u001b[0m\u001b[0;34m)\u001b[0m\u001b[0;34m\u001b[0m\u001b[0;34m\u001b[0m\u001b[0m\n\u001b[0m",
      "\u001b[0;31mAttributeError\u001b[0m: 'dict' object has no attribute 'products'"
     ]
    }
   ],
   "source": [
    "from cobaya.run import run\n",
    "updinfo, sampler = run(info)"
   ]
  },
  {
   "cell_type": "code",
   "execution_count": 77,
   "metadata": {},
   "outputs": [
    {
     "name": "stdout",
     "output_type": "stream",
     "text": [
      "[root] *WARNING* outlier fraction 0.04583333333333333 \n"
     ]
    }
   ],
   "source": [
    "gdsamples = MCSamplesFromCobaya(updinfo, sampler[\"sample\"])"
   ]
  },
  {
   "cell_type": "code",
   "execution_count": 81,
   "metadata": {},
   "outputs": [
    {
     "name": "stdout",
     "output_type": "stream",
     "text": [
      "[root] *WARNING* 2D kernel density bandwidth optimizer failed for beta, gamma. Using fallback width: f(a) and f(b) must have different signs\n"
     ]
    },
    {
     "data": {
      "image/png": "[encoded data removed]",
      "text/plain": [
       "<Figure size 432x324 with 1 Axes>"
      ]
     },
     "metadata": {
      "needs_background": "light"
     },
     "output_type": "display_data"
    }
   ],
   "source": [
    "p = gdplt.get_single_plotter(width_inch=6)\n",
    "p.plot_2d(gdsamples, [\"beta\", \"gamma\"], filled=True)\n",
    "p.add_x_marker(beta, lw = 2)\n",
    "p.add_y_marker(gamma, lw = 2)"
   ]
  },
  {
   "cell_type": "code",
   "execution_count": null,
   "metadata": {},
   "outputs": [],
   "source": []
  },
  {
   "cell_type": "code",
   "execution_count": null,
   "metadata": {},
   "outputs": [],
   "source": []
  },
  {
   "cell_type": "code",
   "execution_count": null,
   "metadata": {},
   "outputs": [],
   "source": []
  },
  {
   "cell_type": "code",
   "execution_count": null,
   "metadata": {},
   "outputs": [],
   "source": []
  },
  {
   "cell_type": "code",
   "execution_count": null,
   "metadata": {},
   "outputs": [],
   "source": []
  },
  {
   "cell_type": "code",
   "execution_count": null,
   "metadata": {},
   "outputs": [],
   "source": []
  },
  {
   "cell_type": "code",
   "execution_count": null,
   "metadata": {},
   "outputs": [],
   "source": []
  },
  {
   "cell_type": "code",
   "execution_count": 3,
   "metadata": {},
   "outputs": [],
   "source": [
    "class MyLikelihood(Likelihood):\n",
    "\n",
    "    def initialize(self):\n",
    "        \"\"\"\n",
    "         Prepare any computation, importing any necessary code, files, etc.\n",
    "\n",
    "         e.g. here we load some data file, with default cl_file set in .yaml below,\n",
    "         or overridden when running Cobaya.\n",
    "        \"\"\"\n",
    "\n",
    "        self.I_data = I_data\n",
    "\n",
    "    def get_requirements(self):\n",
    "        \"\"\"\n",
    "         return dictionary specifying quantities calculated by a theory code are needed\n",
    "\n",
    "         e.g. here we need C_L^{tt} to lmax=2500 and the H0 value\n",
    "        \"\"\"\n",
    "        return {'Cl': {'tt': 2500}, 'H0': None}\n",
    "\n",
    "    def logp(self, **params_values):\n",
    "        \"\"\"\n",
    "        Taking a dictionary of (sampled) nuisance parameter values params_values\n",
    "        and return a log-likelihood.\n",
    "\n",
    "        e.g. here we calculate chi^2  using cls['tt'], H0_theory, my_foreground_amp\n",
    "        \"\"\"\n",
    "        H0_theory = self.provider.get_param(\"beta\")\n",
    "        gamma_theory = self.provider.get_param(\"beta\")\n",
    "        _, I_theory, _ = integrate_SIR(S0, I0, R0, ndays, beta_theory, gamma_theory)\n",
    "\n",
    "        chi2 = np.sum((I_theory - self.I_data)**2.)\n",
    "        return -chi2 / 2"
   ]
  },
  {
   "cell_type": "code",
   "execution_count": 71,
   "metadata": {},
   "outputs": [
    {
     "data": {
      "text/plain": [
       "1.6008539134637971"
      ]
     },
     "execution_count": 71,
     "metadata": {},
     "output_type": "execute_result"
    }
   ],
   "source": [
    "np.sum((I_data - I_data_noiseless)**2)"
   ]
  },
  {
   "cell_type": "code",
   "execution_count": null,
   "metadata": {},
   "outputs": [],
   "source": []
  }
 ],
 "metadata": {
  "kernelspec": {
   "display_name": "Python 3",
   "language": "python",
   "name": "python3"
  },
  "language_info": {
   "codemirror_mode": {
    "name": "ipython",
    "version": 3
   },
   "file_extension": ".py",
   "mimetype": "text/x-python",
   "name": "python",
   "nbconvert_exporter": "python",
   "pygments_lexer": "ipython3",
   "version": "3.7.6"
  }
 },
 "nbformat": 4,
 "nbformat_minor": 2
}
