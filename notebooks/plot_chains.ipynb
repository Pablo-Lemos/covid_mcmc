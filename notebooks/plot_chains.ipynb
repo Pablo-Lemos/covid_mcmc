{
 "cells": [
  {
   "cell_type": "markdown",
   "metadata": {},
   "source": [
    "# Plot chains\n",
    "\n",
    "This notebook shows how to use GetDist to plot MCMC chains"
   ]
  },
  {
   "cell_type": "code",
   "execution_count": 2,
   "metadata": {},
   "outputs": [],
   "source": [
    "# Imports\n",
    "from getdist.mcsamples import loadMCSamples\n",
    "import getdist.plots as gdplt\n",
    "%matplotlib inline "
   ]
  },
  {
   "cell_type": "markdown",
   "metadata": {},
   "source": [
    "Load the samples"
   ]
  },
  {
   "cell_type": "code",
   "execution_count": null,
   "metadata": {},
   "outputs": [],
   "source": [
    "gdsamples = loadMCSamples('../chains/test')"
   ]
  },
  {
   "cell_type": "code",
   "execution_count": null,
   "metadata": {},
   "outputs": [],
   "source": [
    "p = gdplt.get_single_plotter(width_inch=6)\n",
    "p.plot_2d(gdsamples, [\"beta\", \"gamma\"], filled=True)\n",
    "#p.export('./saved_plot')"
   ]
  }
 ],
 "metadata": {
  "kernelspec": {
   "display_name": "Cosmo",
   "language": "python",
   "name": "cosmo"
  },
  "language_info": {
   "codemirror_mode": {
    "name": "ipython",
    "version": 3
   },
   "file_extension": ".py",
   "mimetype": "text/x-python",
   "name": "python",
   "nbconvert_exporter": "python",
   "pygments_lexer": "ipython3",
   "version": "3.7.9"
  }
 },
 "nbformat": 4,
 "nbformat_minor": 2
}
